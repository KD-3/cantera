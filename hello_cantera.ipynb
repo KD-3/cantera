{
 "metadata": {
  "language_info": {
   "codemirror_mode": {
    "name": "ipython",
    "version": 3
   },
   "file_extension": ".py",
   "mimetype": "text/x-python",
   "name": "python",
   "nbconvert_exporter": "python",
   "pygments_lexer": "ipython3",
   "version": "3.7.9-final"
  },
  "orig_nbformat": 2,
  "kernelspec": {
   "name": "python3",
   "display_name": "Python 3",
   "language": "python"
  }
 },
 "nbformat": 4,
 "nbformat_minor": 2,
 "cells": [
  {
   "cell_type": "code",
   "execution_count": 1,
   "metadata": {},
   "outputs": [],
   "source": [
    "import cantera as ct\n",
    "import numpy as np"
   ]
  },
  {
   "cell_type": "code",
   "execution_count": 2,
   "metadata": {},
   "outputs": [],
   "source": [
    "gas1 = ct.Solution('gri30.xml')"
   ]
  },
  {
   "cell_type": "code",
   "execution_count": 3,
   "metadata": {},
   "outputs": [
    {
     "output_type": "stream",
     "name": "stdout",
     "text": [
      "\n  gri30:\n\n       temperature             300  K\n          pressure          101325  Pa\n           density       0.0818891  kg/m^3\n  mean mol. weight         2.01588  amu\n\n                          1 kg            1 kmol\n                       -----------      ------------\n          enthalpy           26470        5.336e+04     J\n   internal energy     -1.2109e+06       -2.441e+06     J\n           entropy           64914        1.309e+05     J/K\n    Gibbs function     -1.9448e+07        -3.92e+07     J\n heat capacity c_p           14312        2.885e+04     J/K\n heat capacity c_v           10187        2.054e+04     J/K\n\n                           X                 Y          Chem. Pot. / RT\n                     -------------     ------------     ------------\n                H2              1                1         -15.7173\n     [  +52 minor]              0                0\n\n"
     ]
    }
   ],
   "source": [
    "gas1()"
   ]
  },
  {
   "cell_type": "code",
   "execution_count": 4,
   "metadata": {},
   "outputs": [],
   "source": [
    "gas1.TP = 1500, 202650"
   ]
  },
  {
   "cell_type": "code",
   "execution_count": 5,
   "metadata": {},
   "outputs": [
    {
     "output_type": "stream",
     "name": "stdout",
     "text": [
      "\n  gri30:\n\n       temperature            1500  K\n          pressure          202650  Pa\n           density       0.0327556  kg/m^3\n  mean mol. weight         2.01588  amu\n\n                          1 kg            1 kmol\n                       -----------      ------------\n          enthalpy      1.8004e+07        3.629e+07     J\n   internal energy      1.1818e+07        2.382e+07     J\n           entropy           85868        1.731e+05     J/K\n    Gibbs function      -1.108e+08       -2.234e+08     J\n heat capacity c_p           16012        3.228e+04     J/K\n heat capacity c_v           11888        2.396e+04     J/K\n\n                           X                 Y          Chem. Pot. / RT\n                     -------------     ------------     ------------\n                H2              1                1         -17.9091\n     [  +52 minor]              0                0\n\n"
     ]
    }
   ],
   "source": [
    "gas1()"
   ]
  },
  {
   "cell_type": "code",
   "execution_count": 7,
   "metadata": {},
   "outputs": [
    {
     "output_type": "execute_result",
     "data": {
      "text/plain": [
       "18004278.47169803"
      ]
     },
     "metadata": {},
     "execution_count": 7
    }
   ],
   "source": [
    "gas1.h"
   ]
  },
  {
   "cell_type": "code",
   "execution_count": 11,
   "metadata": {},
   "outputs": [
    {
     "output_type": "execute_result",
     "data": {
      "text/plain": [
       "(11817554.48515121, 30.529109235365503)"
      ]
     },
     "metadata": {},
     "execution_count": 11
    }
   ],
   "source": [
    "gas1.UV"
   ]
  },
  {
   "cell_type": "code",
   "execution_count": null,
   "metadata": {},
   "outputs": [],
   "source": []
  }
 ]
}